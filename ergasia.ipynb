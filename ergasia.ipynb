{
 "cells": [
  {
   "cell_type": "markdown",
   "metadata": {
    "id": "KeJxAKSvNfNy"
   },
   "source": [
    "# IMDB sentiment analysis with scikit-learn"
   ]
  },
  {
   "cell_type": "markdown",
   "metadata": {},
   "source": [
    "\n",
    "As part of the coursework for the Artificial Intelligence class we chose to implement the following algorithms:\n",
    "\n",
    "- <span style=\"color:green \"> **Naive Bayes Classifier** </span>\n",
    "- <span style=\"color:green \">**Random Forest**</span> using ID3 for tree generation\n",
    "- <span style=\"color:green \">**Logistic Regression**</span> with stochastic gradient ascent adding normalization.\n",
    "\n",
    "We use these algorithms to categorize mathematically based on the words of the \"<u>Large Movie Review Dataset</u>\" also known as the \"IMDB dataset\" the reviews into positive or negative. Then we compare the classifications of our predictions with the real categories of the reviews (<span style=\"color:red;\"> positive </span> or<span style=\"color:green;\"> negative </span> ) as they are already categorized in the database and find the success rate of our algorithms.\n",
    "\n",
    "The parameters we set for the rare and not words of the training data are as follows: \n",
    "- <span style=\"color:blue;\"> n=99 </span>(the most frequent that are omitted)\n",
    "- <span style=\"color:blue;\"> m=1000 </span>(the frequent words that make up the vocabulary used in the algorithms)\n",
    "- <span style=\"color:blue;\"> k=2898 </span> (the rarer words that do not concern us)\n",
    "\n",
    "Additionally, we chose a default number of Random Forest trees equal to <span style=\"color:blue;\"> 10 </span>.\n",
    "\n",
    "In the first stage regarding the data extraction from the dataset, we use the Keras API Implementation, the high-level API of TensorFlow. After storing the vectors in correspondence with each other, each REVIEW(i) with its corresponding CLASSIFICATION(i), for the training data and the test data, we convert them into binary form where:\n",
    "- **x_test_binary** and **x_train_binary**: Each contains a sequence of 1000 digits. Each digit represents one of the words in the vocabulary, having the value 1 if the respective word appears in the said review and 0 if not.\n",
    "- **y_train_list** and **y_test_list**: We convert for our convenience into lists the ndarrays that include the classification of the reviews into positive/negative (1/0).\n",
    "\n",
    "\n"
   ]
  },
  {
   "cell_type": "markdown",
   "metadata": {
    "id": "VhIK8UDAgpMu"
   },
   "source": [
    "## Fetch data"
   ]
  },
  {
   "cell_type": "code",
   "execution_count": 6,
   "metadata": {
    "id": "8RMZkur0Z7H4"
   },
   "outputs": [],
   "source": [
    "import tensorflow as tf\n",
    "import numpy as np\n",
    "import math \n",
    "from tqdm import tqdm\n",
    "from sklearn.metrics import classification_report\n",
    "from sklearn.metrics import accuracy_score\n",
    "from sklearn.metrics import precision_score\n",
    "from sklearn.metrics import recall_score\n",
    "from sklearn.metrics import f1_score\n",
    "import matplotlib.pyplot as plt \n",
    "from sklearn.model_selection import learning_curve\n",
    "from sklearn.naive_bayes import BernoulliNB\n",
    "from sklearn.tree import DecisionTreeClassifier\n",
    "from sklearn.ensemble import RandomForestClassifier\n",
    "from sklearn.feature_extraction.text import CountVectorizer\n",
    "from sklearn.model_selection import train_test_split\n",
    "import pandas as pd \n",
    "import random\n",
    "from tensorflow.keras.utils import plot_model\n",
    "\n",
    "(x_train, y_train), (x_test, y_test) = tf.keras.datasets.imdb.load_data(num_words=4000)\n",
    "\n",
    "word_index = tf.keras.datasets.imdb.get_word_index()\n",
    "index2word = dict((i + 3, word) for (word, i) in word_index.items())\n",
    "index2word[0] = '[pad]'\n",
    "index2word[1] = '[bos]'\n",
    "index2word[2] = '[oov]'\n",
    "x_train = np.array([' '.join([index2word[idx] for idx in text]) for text in x_train])\n",
    "x_test = np.array([' '.join([index2word[idx] for idx in text]) for text in x_test])"
   ]
  },
  {
   "cell_type": "code",
   "execution_count": 7,
   "metadata": {
    "colab": {
     "base_uri": "https://localhost:8080/"
    },
    "id": "quKpVbcFEhZT",
    "outputId": "30438610-f123-4e4a-e09c-a21115540867"
   },
   "outputs": [
    {
     "data": {
      "text/plain": [
       "88584"
      ]
     },
     "execution_count": 7,
     "metadata": {},
     "output_type": "execute_result"
    }
   ],
   "source": [
    "len(word_index)"
   ]
  },
  {
   "cell_type": "code",
   "execution_count": 8,
   "metadata": {
    "colab": {
     "base_uri": "https://localhost:8080/",
     "height": 105
    },
    "id": "AOEmWY7yfBFu",
    "outputId": "7a134933-2827-4e02-dd3f-651ce21c77d0"
   },
   "outputs": [
    {
     "data": {
      "text/plain": [
       "\"[bos] this film was just brilliant casting location scenery story direction [oov] really suited the part they played and you could just imagine being there robert [oov] is an amazing actor and now the same being director [oov] father came from the same [oov] island as myself so i loved the fact there was a real connection with this film the witty [oov] throughout the film were great it was just brilliant so much that i bought the film as soon as it was released for [oov] and would recommend it to everyone to watch and the fly [oov] was amazing really cried at the end it was so sad and you know what they say if you cry at a film it must have been good and this definitely was also [oov] to the two little [oov] that played the [oov] of norman and paul they were just brilliant children are often left out of the [oov] list i think because the stars that play them all grown up are such a big [oov] for the whole film but these children are amazing and should be [oov] for what they have done don't you think the whole story was so lovely because it was true and was [oov] life after all that was [oov] with us all\""
      ]
     },
     "execution_count": 8,
     "metadata": {},
     "output_type": "execute_result"
    }
   ],
   "source": [
    "x_train[0]"
   ]
  },
  {
   "cell_type": "markdown",
   "metadata": {
    "id": "ZoCXNaVXgmXN"
   },
   "source": [
    "## Create the vocabulary"
   ]
  },
  {
   "cell_type": "code",
   "execution_count": 9,
   "metadata": {
    "colab": {
     "base_uri": "https://localhost:8080/"
    },
    "id": "wP5Xpgpcgl0_",
    "outputId": "e9cee4ea-3b1e-4c87-f370-6e7872726c4b"
   },
   "outputs": [
    {
     "name": "stdout",
     "output_type": "stream",
     "text": [
      "1000\n"
     ]
    }
   ],
   "source": [
    "from collections import Counter\n",
    "\n",
    "vocabulary = list()\n",
    "train_words = list()\n",
    "sorted_words = list()\n",
    "for text in x_train:\n",
    "  tokens = text.split()\n",
    "  train_words.extend(tokens)\n",
    "\n",
    "Counter = Counter(train_words)\n",
    "Counter_copy = Counter\n",
    "temp = Counter.most_common(3998)\n",
    "for key in temp:\n",
    "    sorted_words.append(key[0])\n",
    "\n",
    "#n=99, m = 1000, k = 2898\n",
    "k=list()\n",
    "n=list()\n",
    "m = Counter.most_common(1100)\n",
    "j=0\n",
    "for key in m:\n",
    "  j+=1\n",
    "  if(j>=101):\n",
    "    vocabulary.append(key[0])\n",
    " \n",
    "\n",
    "for i in range(1,100):\n",
    "  n.append(sorted_words[i])\n",
    "j=0\n",
    "for key in sorted_words:\n",
    "  j+=1\n",
    "  if(j<=1100):\n",
    "    sorted_words.remove(key)\n",
    "k = sorted_words.copy()\n",
    "\n",
    "print(len(vocabulary))"
   ]
  },
  {
   "cell_type": "markdown",
   "metadata": {
    "id": "yDGjmz4UxlRi"
   },
   "source": [
    "## Create binary vectors "
   ]
  },
  {
   "cell_type": "code",
   "execution_count": 10,
   "metadata": {
    "colab": {
     "base_uri": "https://localhost:8080/"
    },
    "id": "KESrOUVAhmRD",
    "outputId": "077cba85-f8c7-4070-a896-fe7d84e1c4c1"
   },
   "outputs": [
    {
     "name": "stderr",
     "output_type": "stream",
     "text": [
      "100%|██████████| 25000/25000 [01:20<00:00, 311.67it/s]\n",
      "100%|██████████| 25000/25000 [01:19<00:00, 312.64it/s]\n"
     ]
    },
    {
     "name": "stdout",
     "output_type": "stream",
     "text": [
      "[0 1 1 0 1 1 0 0 0 0 1 1 0 0 0 1 0 0 0 0 0 0 1 0 0 0 0 0 1 0 0 0 1 1 0 0 0\n",
      " 0 0 1 0 0 1 0 0 1 0 0 1 0 0 0 0 0 0 0 0 0 0 0 0 0 0 0 0 1 0 0 0 0 1 1 0 0\n",
      " 0 0 1 0 0 0 0 0 0 0 0 0 0 0 0 0 1 0 1 0 0 0 0 0 0 0 0 0 0 0 0 0 0 0 0 0 0\n",
      " 0 0 1 0 0 0 0 0 0 0 0 1 0 1 0 0 0 0 0 0 0 0 0 0 0 0 0 0 0 0 0 0 0 0 0 0 0\n",
      " 0 0 0 0 0 0 1 0 0 0 0 0 0 0 0 0 0 0 0 0 0 0 0 0 0 0 0 0 0 0 0 0 0 1 1 0 0\n",
      " 0 0 0 0 0 0 0 0 0 0 1 0 0 0 0 0 0 0 0 0 0 0 0 0 0 0 0 0 0 1 1 0 0 0 0 0 0\n",
      " 0 0 0 0 0 0 0 0 0 0 0 0 1 0 0 0 0 0 0 0 0 0 0 0 0 0 0 0 0 0 0 0 0 0 0 0 0\n",
      " 0 0 0 0 0 0 0 0 0 0 0 0 0 0 0 0 0 0 0 0 1 0 0 0 1 1 0 0 0 0 0 0 0 0 0 0 0\n",
      " 0 1 0 0 0 0 0 0 0 1 0 0 0 0 0 0 0 0 0 0 0 0 0 0 0 0 0 0 0 0 0 0 0 0 0 0 0\n",
      " 0 0 0 0 0 0 0 0 0 0 0 0 1 0 0 0 0 0 0 0 0 0 0 1 0 0 0 0 0 0 0 0 0 0 1 0 0\n",
      " 0 0 0 0 1 0 0 0 1 0 0 0 0 0 0 0 0 0 0 0 0 0 0 0 0 0 0 0 0 0 0 0 0 0 0 0 0\n",
      " 0 0 0 0 0 0 1 0 0 0 0 0 0 0 0 0 0 0 0 0 1 0 0 0 0 0 0 0 0 0 0 0 0 0 0 0 0\n",
      " 1 0 0 0 0 0 0 0 0 0 0 0 0 0 0 0 0 0 0 0 0 0 0 0 0 0 0 0 0 0 0 0 0 0 0 0 0\n",
      " 0 0 0 0 0 0 0 0 0 0 0 0 0 0 0 0 0 0 0 0 0 0 0 0 0 0 0 0 0 0 0 0 0 0 1 0 0\n",
      " 0 0 0 0 0 1 0 0 0 0 0 0 0 0 0 0 0 0 0 0 0 0 0 0 0 0 0 0 0 0 0 0 0 0 0 0 0\n",
      " 0 0 0 0 0 0 0 0 0 0 0 0 0 1 0 0 0 0 0 0 0 0 0 0 0 0 0 0 0 0 0 0 0 0 0 0 0\n",
      " 0 0 0 0 0 0 0 0 0 0 0 0 0 0 0 0 0 0 0 0 0 0 0 0 0 0 0 0 0 1 0 0 0 0 0 0 0\n",
      " 0 0 0 0 0 0 0 0 0 0 0 0 0 0 0 0 0 0 0 0 0 0 0 0 0 0 0 0 0 0 0 0 0 0 0 0 0\n",
      " 0 0 0 0 0 0 0 0 0 0 0 0 0 0 0 0 0 0 0 0 0 0 0 0 0 0 0 0 0 0 0 0 0 0 0 0 0\n",
      " 0 0 0 0 0 0 0 0 0 0 0 0 0 0 0 0 0 0 0 0 0 0 0 0 0 0 0 0 0 0 0 0 0 1 0 0 0\n",
      " 0 0 0 0 0 0 0 0 0 0 0 0 0 0 0 0 0 0 0 0 0 0 0 0 0 0 0 0 0 0 0 0 0 0 0 0 0\n",
      " 0 0 0 0 0 0 0 0 0 0 0 0 0 0 0 0 0 0 0 0 0 0 0 0 0 0 0 0 0 0 0 0 0 0 0 0 0\n",
      " 0 0 0 0 0 0 0 0 0 0 0 0 0 0 0 0 0 0 0 0 0 0 0 0 0 0 0 0 0 0 0 0 0 0 0 0 0\n",
      " 0 0 0 0 0 0 0 0 0 0 0 0 0 0 0 0 0 0 1 0 0 0 0 0 0 0 0 0 0 0 0 0 0 0 0 0 0\n",
      " 0 0 0 0 0 0 0 0 0 0 0 0 0 0 0 0 0 0 0 0 0 0 0 0 0 0 0 0 0 0 0 0 0 0 0 0 0\n",
      " 0 1 0 0 0 0 0 0 0 0 0 0 0 0 0 0 0 0 0 0 0 0 0 0 0 0 0 0 0 0 0 0 0 0 0 0 0\n",
      " 0 0 0 0 0 0 0 0 0 0 0 0 0 0 0 0 0 0 0 0 0 0 0 0 0 0 0 0 0 0 0 0 0 0 0 0 0\n",
      " 0]\n"
     ]
    }
   ],
   "source": [
    "from tqdm import tqdm\n",
    "\n",
    "x_train_binary = list()\n",
    "x_test_binary = list()\n",
    "\n",
    "for text in tqdm(x_train):\n",
    "  tokens = text.split()\n",
    "  binary_vector = list()\n",
    "  for vocab_token in vocabulary:\n",
    "    if vocab_token in tokens:\n",
    "      binary_vector.append(1)\n",
    "    else:\n",
    "      binary_vector.append(0)\n",
    "  x_train_binary.append(binary_vector)\n",
    "\n",
    "x_train_binary = np.array(x_train_binary)\n",
    "\n",
    "for text in tqdm(x_test):\n",
    "  tokens = text.split()\n",
    "  binary_vector = list()\n",
    "  for vocab_token in vocabulary:\n",
    "    if vocab_token in tokens:\n",
    "      binary_vector.append(1)\n",
    "    else:\n",
    "      binary_vector.append(0)\n",
    "  x_test_binary.append(binary_vector)\n",
    "\n",
    "x_test_binary = np.array(x_test_binary)\n",
    "#print(x_test_binary[0])\n",
    "y_train_list = y_train.tolist()\n",
    "print(x_train_binary[0])\n",
    "\n",
    "vocabulary_indexes = list()\n",
    "for i in range(len(vocabulary)):\n",
    "  vocabulary_indexes.append(i)"
   ]
  },
  {
   "cell_type": "markdown",
   "metadata": {},
   "source": [
    "\n",
    "## <span style=\"color:green \">  Naive Bayes Classifier </span>\n",
    "\n",
    "To classify with Naive Bayes, the algorithm first needs to be trained using the training set <u> x_train_binary</u> and <u>y_train </u>. During training, Naive Bayes calculates the probabilities of the appearance of features/words for each category.\n",
    "When it needs to classify a new sample, Naive Bayes uses Bayes' theorem to calculate the probability of the sample belonging to each category, considering its features and the probabilities calculated during training. The algorithm selects the category with the highest probability as the final category of the sample.\n",
    "\n",
    "In our implementation, we chose not to provide any hyperparameter to Naive Bayes. Additionally, in classification with the Naive Bayes algorithm, we use logarithms to prevent numerical underflow during the calculation of probabilities.\n",
    "\n",
    "The standard equation of Naive Bayes is as follows:\n",
    "\n",
    "**P(Class∣Features) = P(Features∣Class) * P(Class) / P(Features)**.\n",
    "\n",
    "The logarithmic transformation simplifies computational processes:\n",
    "\n",
    "**log(P(Class∣Features)) = log(P(Features∣Class)) + log(P(Class)) - log(P(Features))**.\n",
    "\n",
    "This ensures numerical stability and accuracy in problematic probability models.\n",
    "\n",
    "### Coding Structure:\n",
    "- __init__(self): Initializes the Naive Bayes classifier.\n",
    "  Arguments -> self.x1_while_c_is_negative and self.x1_while_c_is_positive are lists that will store the probabilities of each word occurring given a negative or positive review respectively.\n",
    "  Global variables -> self.p_c0 and self.p_c1 will store the overall probability of having a negative or positive review respectively.\n",
    "\n",
    "- **fit(self, X, Y)**: Trains the Naive Bayes classifier using the training data X (features) and Y (labels).\n",
    "  Initializes counters and lists to calculate the frequency of each word in positive and negative reviews.\n",
    "  Calculates the overall probability of having a positive or negative review (self.pc0 and self.pc1).\n",
    "  Computes the conditional probabilities of each word given a negative or positive review. This involves counting how often each word appears in positive and negative reviews and then normalizing these counts to probabilities.\n",
    "  The probabilities are rounded for better numerical stability.\n",
    "\n",
    "- **predict(self, X)**: Predicts the class (positive or negative) for each review in the test dataset X.\n",
    "  Uses logarithms to prevent numerical underflow when dealing with very small probabilities. This is a common technique in Naive Bayes implementations.\n",
    "  For each review, it calculates the log probabilities for both the negative and positive classes based on the features of the review and the probabilities computed during training. The class with the higher log probability is chosen as the predicted class.\n",
    "  Returns a list of predictions where each prediction corresponds to the predicted class of a review in the test set.\n",
    "\n"
   ]
  },
  {
   "cell_type": "markdown",
   "metadata": {
    "id": "gh0UFy2FyCW4"
   },
   "source": [
    "## Code\n"
   ]
  },
  {
   "cell_type": "code",
   "execution_count": 11,
   "metadata": {
    "colab": {
     "base_uri": "https://localhost:8080/"
    },
    "id": "nT5E13ejyD2f",
    "outputId": "64341573-8b80-43a2-88b4-7f50c404c8a3"
   },
   "outputs": [],
   "source": [
    "class Naive_Bayes:\n",
    "\n",
    "    def __init__(self):\n",
    "        #lists with the probabilities of having each word given we have a negative or positive review correspondingly \n",
    "        self.x1_while_c_is_negative = list()\n",
    "        self.x1_while_c_is_positive = list()\n",
    "        #global variables with the probability of having a negative or positive review correspondingly\n",
    "        self.p_c0 = float(0)\n",
    "        self.p_c1 = float(0)\n",
    "\n",
    "    def fit(self, X, Y):\n",
    "        #Initialisations of elements:\n",
    "        self.x1_while_c_is_negative = []\n",
    "        self.x1_while_c_is_positive = []\n",
    "        reviews = len(Y) \n",
    "        neg_reviews = 0 \n",
    "        pos_reviews = 0\n",
    "        sum_pos =  list() #For each position i in the array: How many times does the word i appear when we have a positive review\n",
    "        sum_neg =  list() #For each position i in the array: How many times does the word i appear when we have a negative review\n",
    "        p_ex_pos = list() #Each element represents for the word Xelement the probability: P( Xelement = 1 | C = 1) \n",
    "        p_ex_neg = list() #Each element represents for the word Xelement the probability: P( Xelement = 1 | C = 0) \n",
    "\n",
    "        #Calculation of the overall probability of having a positive or negative review:\n",
    "        for i in range(reviews):\n",
    "            if Y[i] == 0:\n",
    "                neg_reviews += 1\n",
    "            else:\n",
    "                pos_reviews += 1\n",
    "        self.pc0 = pos_reviews/reviews\n",
    "        self.pc1 = neg_reviews/reviews\n",
    "\n",
    "        #Calculation of probabilities for each word given that we have a negative or positive review, respectively:\n",
    "        \n",
    "\n",
    "        #Initialization of lists with counters\n",
    "        for i in range(len(vocabulary)):\n",
    "            #We already set it to 1 to avoid the absence of any word\n",
    "            sum_pos.append(0) \n",
    "            sum_neg.append(0)\n",
    "\n",
    "        for i in range(reviews):\n",
    "            for j in range(len(vocabulary)):\n",
    "                if(Y[i] == 0 and X[i][j]==1):\n",
    "                    sum_neg[j] +=1\n",
    "                elif(Y[i] == 1 and X[i][j]==1):\n",
    "                    sum_pos[j] +=1\n",
    "        \n",
    "\n",
    "        #Lists of probabilities for each word given that we have a negative or positive review\n",
    "        for i in range(0,1000):\n",
    "            p_ex_pos.append(0) \n",
    "            p_ex_neg.append(0)\n",
    "        #for i in range(len(p_ex_neg_train)):\n",
    "        for i in range(len(vocabulary)):\n",
    "            p_ex_neg[i] = (sum_neg[i]+1)/(neg_reviews+2) #P(Xi = 1 | C = 0) \n",
    "        for i in range(len(vocabulary)):\n",
    "            p_ex_pos[i] = (sum_pos[i]+1)/(pos_reviews+2) #P(Xi = 1 | C = 1)\n",
    "\n",
    "        p_ex_neg = np.round(p_ex_neg, decimals=2)\n",
    "        p_ex_pos = np.round(p_ex_pos, decimals=2)\n",
    "\n",
    "        self.x1_while_c_is_positive = p_ex_pos.copy()\n",
    "        self.x1_while_c_is_negative = p_ex_neg.copy()\n",
    "\n",
    "    def predict(self, X):\n",
    "\n",
    "        # In Naive Bayes classification here we used logarithms to prevent numerical underflow when dealing with probabilities. \n",
    "        # The standard Naive Bayes equation is the following: \n",
    "        # P(Class∣Features) = P(Features∣Class) * P(Class) / P(Features)\n",
    "        # The logarithmic transformation simplifies computations:\n",
    "        # log(P(Class∣Features)) = log(P(Features∣Class)) + log(P(Class)) - log(P(Features))\n",
    "        # This ensures numerical stability and precision in probabilistic models.\n",
    "\n",
    "\n",
    "        predictions = list()\n",
    "        epsilon = 1e-10  #small positive value to avoid errors\n",
    "        for i in range(len(X)):\n",
    "\n",
    "            # Initialize log probabilities\n",
    "            log_pc0 = np.log(self.pc0)\n",
    "            log_pc1 = np.log(self.pc1)\n",
    "\n",
    "            # Calculate log probability for negative class (C=0)\n",
    "            for xi in range(len(X[i])):\n",
    "                if X[i][xi] == 0:\n",
    "                    log_pc0 += np.log(1 - self.x1_while_c_is_negative[xi])\n",
    "                else:\n",
    "                    log_pc0 += np.log(self.x1_while_c_is_negative[xi] + epsilon)\n",
    "\n",
    "            # Calculate log probability for positive class (C=1)\n",
    "            for xi in range(len(X[i])):\n",
    "                if X[i][xi] == 1:\n",
    "                    log_pc1 += np.log(self.x1_while_c_is_positive[xi] + epsilon)\n",
    "                else:\n",
    "                    log_pc1 += np.log(1 - self.x1_while_c_is_positive[xi])\n",
    "\n",
    "            if log_pc0 < log_pc1:\n",
    "                predictions.append(1)\n",
    "            else:\n",
    "                predictions.append(0)\n",
    "\n",
    "        return predictions\n"
   ]
  },
  {
   "cell_type": "code",
   "execution_count": 12,
   "metadata": {},
   "outputs": [
    {
     "name": "stdout",
     "output_type": "stream",
     "text": [
      "82.948\n",
      "82.588\n",
      "20647\n"
     ]
    }
   ],
   "source": [
    "tool = Naive_Bayes()\n",
    "y_train_list = y_train.tolist()\n",
    "y_test_list = y_test.tolist()\n",
    "tool.fit(x_train_binary, y_train_list)\n",
    "y_pred = tool.predict(x_train_binary)\n",
    "sum=0\n",
    "for i in range(len(y_train_list)):\n",
    "    if(y_train_list[i]==y_pred[i]):\n",
    "        sum+=1\n",
    "correct_percentage_test = (sum/len(y_train_list))*100\n",
    "print(correct_percentage_test) \n",
    "\n",
    "# sum = 0\n",
    "# p1 = tool.x1_while_c_is_negative.copy()\n",
    "# p2 = tool.x1_while_c_is_positive.copy()\n",
    "tool2 = Naive_Bayes()\n",
    "# tool2.fit(x_test_binary, y_test_list)\n",
    "y_pred = tool.predict(x_test_binary)\n",
    "sum=0\n",
    "for i in range(len(y_train_list)):\n",
    "    if(y_test_list[i]==y_pred[i]):\n",
    "        sum+=1\n",
    "correct_percentage_test = (sum/len(y_train_list))*100\n",
    "print(correct_percentage_test) \n",
    "\n",
    "print(sum)\n",
    "\n"
   ]
  },
  {
   "cell_type": "code",
   "execution_count": null,
   "metadata": {},
   "outputs": [
    {
     "name": "stdout",
     "output_type": "stream",
     "text": [
      "              precision    recall  f1-score   support\n",
      "\n",
      "           0       0.84      0.80      0.82     12500\n",
      "           1       0.81      0.85      0.83     12500\n",
      "\n",
      "    accuracy                           0.83     25000\n",
      "   macro avg       0.83      0.83      0.83     25000\n",
      "weighted avg       0.83      0.83      0.83     25000\n",
      "\n"
     ]
    }
   ],
   "source": [
    "from sklearn.metrics import classification_report\n",
    "nb = Naive_Bayes()\n",
    "nb.fit(x_train_binary, y_train)\n",
    "\n",
    "# Using Naive Bayes Classifier\n",
    "y = nb.predict(x_test_binary)\n",
    "print(classification_report(y_test, y))"
   ]
  },
  {
   "cell_type": "code",
   "execution_count": null,
   "metadata": {
    "tags": [
     "func"
    ]
   },
   "outputs": [
    {
     "name": "stdout",
     "output_type": "stream",
     "text": [
      "[[0 1 1 ... 0 0 0]\n",
      " [1 0 0 ... 0 0 0]\n",
      " [0 0 0 ... 0 0 0]\n",
      " ...\n",
      " [0 1 1 ... 0 0 0]\n",
      " [0 0 0 ... 0 0 0]\n",
      " [0 0 0 ... 0 0 0]] [1 0 0 ... 1 0 0]\n",
      "Split training examples :  1\n",
      "Split training examples :  2\n",
      "Split training examples :  3\n",
      "Split training examples :  4\n"
     ]
    },
    {
     "data": {
      "image/png": "[encoded data removed]",
      "text/plain": [
       "<Figure size 800x800 with 4 Axes>"
      ]
     },
     "metadata": {},
     "output_type": "display_data"
    },
    {
     "data": {
      "text/plain": [
       "{'Training Accuracy': [0.8466, 0.8382, 0.8341333333333333, 0.8321, 0.82948],\n",
       " 'Test Accuracy': [0.82696, 0.8294, 0.82732, 0.82728, 0.82588],\n",
       " 'Training Precision': [0.8451688009313155,\n",
       "  0.8258394991462721,\n",
       "  0.8220349802119239,\n",
       "  0.8215903614457831,\n",
       "  0.8130272858554382],\n",
       " 'Test Precision': [0.8243136010157118,\n",
       "  0.8192602930914166,\n",
       "  0.8171951314055353,\n",
       "  0.8189117555347677,\n",
       "  0.812792751286186],\n",
       " 'Training Recall': [0.8554595443833464,\n",
       "  0.8614684345933109,\n",
       "  0.8547723350590735,\n",
       "  0.8497657262486292,\n",
       "  0.85576],\n",
       " 'Test Recall': [0.83104, 0.84528, 0.84328, 0.8404, 0.8468],\n",
       " 'Training F1 Score': [0.850283037282842,\n",
       "  0.8432777993025958,\n",
       "  0.8380840817389039,\n",
       "  0.8354405566990101,\n",
       "  0.8338465136220136],\n",
       " 'Test F1 Score': [0.8276631344116008,\n",
       "  0.8320667795408907,\n",
       "  0.8300326784519076,\n",
       "  0.8295167403663929,\n",
       "  0.8294479489088273]}"
      ]
     },
     "execution_count": 54,
     "metadata": {},
     "output_type": "execute_result"
    }
   ],
   "source": [
    "# Define a function to evaluate and plot the performance of a machine learning estimator.\n",
    "def custom_curve(estimator, training_features, training_labels, test_features, test_labels, num_splits, plot_title):\n",
    "  \n",
    "  # Calculate the size of each training data split.\n",
    "  size_per_split = int(len(training_features) / num_splits)\n",
    "  \n",
    "  # Split the training data and labels into num_splits equal parts.\n",
    "  feature_splits = np.split(training_features, num_splits)\n",
    "  label_splits = np.split(training_labels, num_splits)\n",
    "\n",
    "  # Initialize lists to store various performance metrics.\n",
    "  training_accuracy, test_accuracy = list(), list()\n",
    "  training_precision, test_precision = list(), list()\n",
    "  training_recall, test_recall = list(), list()\n",
    "  training_f1_score, test_f1_score = list(), list()\n",
    "\n",
    "  # Create a 2x2 grid of subplots for plotting the metrics.\n",
    "  figure, ((accuracy_ax, precision_ax), (recall_ax, f1_score_ax)) = plt.subplots(2, 2, figsize=(8, 8), dpi=100, gridspec_kw={'width_ratios': [1, 1], 'height_ratios': [1, 1]})\n",
    "  figure.suptitle(\"Plots for {title}\".format(title=plot_title), fontsize=16)\n",
    "\n",
    "  # Use the first split as the initial training set.\n",
    "  current_features = feature_splits[0]\n",
    "  current_labels = label_splits[0]\n",
    "  \n",
    "  # Print the current training data for debugging.\n",
    "  print(current_features, current_labels)\n",
    "  \n",
    "  # Fit the estimator using the current training set.\n",
    "  estimator.fit(current_features, current_labels)\n",
    "\n",
    "  # Make predictions on the current training set and the entire test set.\n",
    "  training_predictions = estimator.predict(current_features)\n",
    "  test_predictions = estimator.predict(test_features)\n",
    "\n",
    "  # Calculate and append accuracy for the training and test sets.\n",
    "  training_accuracy.append(accuracy_score(current_labels, training_predictions))\n",
    "  test_accuracy.append(accuracy_score(test_labels, test_predictions))\n",
    "\n",
    "  # Calculate and append precision for the training and test sets.\n",
    "  training_precision.append(precision_score(current_labels, training_predictions))\n",
    "  test_precision.append(precision_score(test_labels, test_predictions))\n",
    "\n",
    "  # Calculate and append recall for the training and test sets.\n",
    "  training_recall.append(recall_score(current_labels, training_predictions))\n",
    "  test_recall.append(recall_score(test_labels, test_predictions))\n",
    "\n",
    "  # Calculate and append F1 score for the training and test sets.\n",
    "  training_f1_score.append(f1_score(current_labels, training_predictions))\n",
    "  test_f1_score.append(f1_score(test_labels, test_predictions))\n",
    "\n",
    "  # Iteratively train the model with more data and track performance.\n",
    "  for i in range(1, len(feature_splits)):\n",
    "    # Print the current number of training examples being used.\n",
    "    print(\"Split training examples : \", i)\n",
    "    \n",
    "    # Incrementally add more data to the training set.\n",
    "    current_features = np.concatenate((current_features, feature_splits[i]), axis=0)\n",
    "    current_labels = np.concatenate((current_labels, label_splits[i]), axis=0)\n",
    "    \n",
    "    # Re-fit the estimator with the expanded training set.\n",
    "    estimator.fit(current_features, current_labels)\n",
    "\n",
    "    # Make new predictions with the updated model.\n",
    "    training_predictions = estimator.predict(current_features)\n",
    "    test_predictions = estimator.predict(test_features)\n",
    "\n",
    "    # Update the performance metrics with the new predictions.\n",
    "    training_accuracy.append(accuracy_score(current_labels, training_predictions))\n",
    "    test_accuracy.append(accuracy_score(test_labels, test_predictions))\n",
    "    training_precision.append(precision_score(current_labels, training_predictions))\n",
    "    test_precision.append(precision_score(test_labels, test_predictions))\n",
    "    training_recall.append(recall_score(current_labels, training_predictions))\n",
    "    test_recall.append(recall_score(test_labels, test_predictions))\n",
    "    training_f1_score.append(f1_score(current_labels, training_predictions))\n",
    "    test_f1_score.append(f1_score(test_labels, test_predictions))\n",
    "    \n",
    "  # Prepare the x-axis for the plots (training size).\n",
    "  training_sizes = list(range(size_per_split, len(training_features) + size_per_split, size_per_split))\n",
    "\n",
    "  # Plot training and test accuracy.\n",
    "  accuracy_ax.plot(training_sizes, training_accuracy, 'o-', color=\"b\", label='Training Accuracy')\n",
    "  accuracy_ax.plot(training_sizes, test_accuracy, 'o-', color=\"red\", label='Test Accuracy')\n",
    "  accuracy_ax.legend(loc=\"lower right\")\n",
    "  \n",
    "  # Plot training and test precision.\n",
    "  precision_ax.plot(training_sizes, training_precision, 'o-', color=\"b\", label='Training Precision')\n",
    "  precision_ax.plot(training_sizes, test_precision, 'o-', color=\"red\", label='Test Precision')\n",
    "  precision_ax.legend(loc=\"lower right\")\n",
    "\n",
    "  # Plot training and test recall.\n",
    "  recall_ax.plot(training_sizes, training_recall, 'o-', color=\"b\", label='Training Recall')\n",
    "  recall_ax.plot(training_sizes, test_recall, 'o-', color=\"red\", label='Test Recall')\n",
    "  recall_ax.legend(loc=\"lower right\")\n",
    "\n",
    "  # Plot training and test F1 scores.\n",
    "  f1_score_ax.plot(training_sizes, training_f1_score, 'o-', color=\"b\", label='Training F1 Score')\n",
    "  f1_score_ax.plot(training_sizes, test_f1_score, 'o-', color=\"red\", label='Test F1 Score')\n",
    "  f1_score_ax.legend(loc=\"lower right\")\n",
    "    \n",
    "  # Display the plots.\n",
    "  plt.show()\n",
    "\n",
    "  # Compile and return the performance data.\n",
    "  performance_data = {\n",
    "    'Training Accuracy': training_accuracy,\n",
    "    'Test Accuracy': test_accuracy,\n",
    "    'Training Precision': training_precision,\n",
    "    'Test Precision': test_precision,\n",
    "    'Training Recall': training_recall,\n",
    "    'Test Recall': test_recall,\n",
    "    'Training F1 Score': training_f1_score,\n",
    "    'Test F1 Score': test_f1_score\n",
    "  }\n",
    "\n",
    "  return performance_data\n",
    "\n",
    "tool = Naive_Bayes()\n",
    "tool.fit(x_train_binary, y_train_list)\n",
    "custom_curve(tool, x_train_binary, y_train, x_test_binary, y_test, 5, \"Naive Bayes\")"
   ]
  },
  {
   "cell_type": "markdown",
   "metadata": {
    "id": "Pmh2Gxc-ys1h"
   },
   "source": [
    "\n",
    "## <span style=\"color:green \">   RANDOM FOREST - ID3 </span>\n",
    "\n",
    "Random Forest is an effective machine learning model based on the ID3 algorithm for creating decision trees. Random Forest operates by taking random samples from the dataset and training multiple ID3 trees. Each tree categorizes the data based on a different subset of words from our database. Eventually, the model aggregates the predictions from all the trees and selects the most frequent category as the final prediction. The strength of Random Forest arises from the ensemble of different trees, achieving balanced and reliable predictions, regardless of the nature of the data (positive or negative) used for training.\n",
    "\n",
    "Regarding the hyperparameters we used, we give the Random Forest initialization a number n of words that will form the subset of the vocabulary to be processed and a number of trees.\n",
    "\n",
    "We noticed that since the selection of n words happens randomly, the algorithms always give a different percentage of successful predictions. The results varied from 65% to almost 75%. Although the results in every execution, we noticed that we achieve the best results with the combinations:\n",
    "\n",
    "- <span style=\"color:red \"> 300 words</span> and <span style=\"color:red \"> 8 trees </span> which reached 73.551% (training) and 73.472% (testing)\n",
    "- <span style=\"color:red \"> 400 words </span> and <span style=\"color:red \"> 8 trees </span> which reached 73.024% (training) and 73.012% (testing)\n",
    "- <span style=\"color:red \"> 400 words </span> and<span style=\"color:red \">  9 trees </span>  which reached 74.156% (training) and 74.084% (testing)\n",
    "\n",
    "We concluded that <u> 400 words and 9 trees </u> is the better case, and so we used these parameters for the result curves and arrays.\n",
    "\n",
    "\n",
    "\n"
   ]
  },
  {
   "cell_type": "markdown",
   "metadata": {},
   "source": [
    "### Coding Structure for ID3:\n",
    "- **IG(Y, Xi)**: Calculate the Information Gain of a feature Xi in the dataset.\n",
    "  - Calculates the entropy (H(C)) of the class labels (C) in the dataset. Entropy is a measure of the uncertainty or impurity in the class distribution.\n",
    "  - For each value (0 or 1) that the feature Xi can take, it calculates the conditional entropy of the class given that feature value (H(C|Xi)).\n",
    "  - Information Gain is then computed as the difference between the original entropy and the weighted sum of these conditional entropies. It measures the reduction in entropy or surprise from revealing the feature.\n",
    "- **class Tree()**: Represent a node in the decision tree.\n",
    "  - <span style=\"color:blue \"> word </span>: The word used for splitting at this node.\n",
    "  - <span style=\"color:blue \">tag </span> : Indicates if the node corresponds to a positive or negative classification based on the splitting word.\n",
    "  - <span style=\"color:blue \">children </span> : A list of child nodes stemming from this node.\n",
    "  - <span style=\"color:blue \">classification </span> : The final classification decision at this node, only assigned at leaf nodes.\n",
    "- **__init__(self, max_depth = 10)**: Initialize the ID3 algorithm with a maximum depth for the tree.\n",
    "- **most_IG(self, X, Y, vocabulary)**: Determine which word from the vocabulary has the highest Information Gain and should be used to split the data at the current node.\n",
    "- **fit(self, X, Y, vocabulary, default)**: Recursively build the tree from the training data. At each node, it uses the word with the highest Information Gain to split the data, creates child nodes, and continues the process until the maximum depth is reached, all words are used, or the data is perfectly classified.\n",
    "- **singular_prediction(self, X, tree)**: Make a prediction for a single instance by traversing the tree based on the features of the instance and returning the classification at the leaf node.\n",
    "- **predict(self, tree, X)**: Make predictions for a set of instances by applying singular_prediction to each."
   ]
  },
  {
   "cell_type": "markdown",
   "metadata": {},
   "source": [
    " ## <span style=\"color:green  \">  ID3 Classifier </span>"
   ]
  },
  {
   "cell_type": "code",
   "execution_count": 13,
   "metadata": {
    "colab": {
     "base_uri": "https://localhost:8080/"
    },
    "id": "GeOd5C9uyyqI",
    "outputId": "65c0cd08-18e3-4630-b19c-7de464308bab"
   },
   "outputs": [],
   "source": [
    "#The formula for calculating the entropy is:\n",
    "#H(C) = -P(C=0)*log2(P(C=0)) -P(C=1)*log2(P(C=1))\n",
    "#And it is used in the calculation of the Information Gain as follows:\n",
    "#IG(Y,Xi)= H(C) - P(Xi = 1)*H(C|Xi=1) + P(Xi = 0)*H(C|Xi=0)\n",
    "#Which, if we want to alanlyze more, becomes:\n",
    "#IG(Y,Xi)= H(C) - \n",
    "#         (P(X=1)*( -(P(C=1|X=1)*log2(P(C=1|X=1))) - (P(C=0|X=1)*log2(P(C=0|X=1))) +\n",
    "#\t\t   P(X=0)*( -(P(C=1|X=0)*log2(P(C=1|X=0))) - (P(C=0|X=0)*log2(P(C=0|X=0))))\n",
    "\n",
    "def IG(Y, Xi):\n",
    "\n",
    "    #Part A: Calculating the H(C) = -P(C=0)*log2(P(C=0)) -P(C=1)*log2(P(C=1))\n",
    "    Hc = 0\n",
    "    for c in range(2):\n",
    "        pc = list(Y).count(c)/len(Y) #P(C=Ci) = (Number of Ci)/(All C instances)\n",
    "        Hc += - pc * math.log(pc, 2)\n",
    "\n",
    "    #Part B: Calculating the IG(Y,Xi)= H(C) - P(Xi = 1)*H(C|Xi=1) + P(Xi = 0)*H(C|Xi=0)\n",
    "    #this will happen in two repetitions: one for Xi=0 and one for Xi=1\n",
    "    Hc_second = 0\n",
    "    for feature in range(2):\n",
    "        p = list(Xi).count(feature)/len(Xi) #P(X = i) = (Number of Xi=feat)/(All features of Xi)\n",
    "        \n",
    "        #finding the number of Y instances for which X=Xi, which will be used for calculating the P(C=c|X=x)\n",
    "        Ys = list()  \n",
    "        for i in range(len(Xi)):\n",
    "            if Xi[i] == feature:\n",
    "                Ys.append(Y[i])\n",
    "\n",
    "        #Calculating the H(C=c|X=x) = ( -(P(C=1|X=x)*log2(P(C=1|X=x))) - (P(C=0|X=x)*log2(P(C=0|X=x))) (for x in [0,1])\n",
    "        for c in range(2):\n",
    "            if len(Ys)!=0:\n",
    "                pc_while_x = Ys.count(c)/len(Ys) #P(C=c|X=x) = (Instances of C for which C=c and X=x)/(All instances of C for which X=x)\n",
    "                if pc_while_x != 0:\n",
    "                    H = - p * pc_while_x * math.log(pc_while_x, 2)\n",
    "                    Hc_second += H\n",
    "    ig = Hc - Hc_second\n",
    "    return ig    \n",
    "\n",
    "\n",
    "class Tree():\n",
    "    def __init__(self):\n",
    "        self.word = \"no word yet\" #The word used for the classification of a subtree\n",
    "        self.tag = None #1 if the node has reviews with the word used for classification, 0 if they do not have it.\n",
    "        self.children = list() #Children of a node\n",
    "        self.classification = int #The final classification. Takes a value only if the classification has been executed.\n",
    "    \n",
    "    def new_child(self, node):\n",
    "        self.children.append(node)\n",
    "\n",
    "class ID3():\n",
    "    def __init__(self, max_depth = 10):\n",
    "        self.max_depth = max_depth\n",
    "        self.depth = 0\n",
    "\n",
    "    def most_IG(self, X, Y, vocabulary):\n",
    "\n",
    "        max_gain = -1\n",
    "        max_word= -1\n",
    "\n",
    "\n",
    "        for w in vocabulary:\n",
    "            x_word = list() #List of all the values that a word will take in variable X\n",
    "            for ex in range(len(X)):\n",
    "                x_word.append(X[ex][w])\n",
    "            word_ig = IG(Y, x_word) #We send Y and the list to IG to find the information gain of the word relative to Y.\n",
    "\n",
    "            if(word_ig>max_gain):\n",
    "                max_gain = word_ig\n",
    "                max_word = w\n",
    "\n",
    "        return max_word #The word with the maximum Information Gain\n",
    "\n",
    "    def fit(self, X, Y, vocabulary, default):\n",
    "       \n",
    "        if(len(Y) == 0):\n",
    "            #If we have reached this point, the Y values are finished because the classification of each review in the tree is complete.\n",
    "            #The value of the classification becomes the one that prevailed at the above level of the tree.\n",
    "            node = Tree()\n",
    "            node.classification = default \n",
    "            return node \n",
    "\n",
    "        if(len(set(Y)) == 1):\n",
    "            # The set method returns a set with all the different values contained in its argument, here Y.\n",
    "            # So, if we have reached this point and Y has only one value, which will be used in the classification, the process stops. \n",
    "            node = Tree()\n",
    "            node.classification = Y[0]\n",
    "            return node\n",
    "\n",
    "        if(len(vocabulary) == 0):\n",
    "            # If we have reached this point, we have used all the words, so no further classifications are made.\n",
    "            # The process stops, and it is classified with the value that prevails in Y.\n",
    "            node = Tree()\n",
    "            if(Y.count(0)>Y.count(1)):\n",
    "                max_count = 0\n",
    "            else:\n",
    "                max_count = 1\n",
    "            node.classification = max_count\n",
    "            return node\n",
    "\n",
    "        if (self.depth == self.max_depth):\n",
    "            # If we are here, we have reached the max depth of the tree.\n",
    "            # The process stops, and it is classified with the value that prevails in Y.\n",
    "            # If there is a tie between negative and positive reviews, we take the default, which is the one that prevailed at the above level.\n",
    "            node = Tree()\n",
    "            if((Y.count(0))>Y.count(1)):\n",
    "                node.classification = 0\n",
    "            elif((Y.count(0))<Y.count(1)):\n",
    "                node.classification = 1\n",
    "            else:\n",
    "                node.classification =default\n",
    "            return node\n",
    "\n",
    "        #The process stops if either 0 or 1 prevails in the remaining reviews.\n",
    "        if (float(Y.count(1))/float(len(Y))>= 0.75):\n",
    "            node = Tree()\n",
    "            node.classification = 1                   \n",
    "            return node\n",
    "        \n",
    "        if(float(Y.count(0))/float(len(Y))>= 0.75):\n",
    "            node = Tree()\n",
    "            node.classification = 0\n",
    "            return node\n",
    "\n",
    "        #Save the prevailing classification so far to be passed as the default in the subsequent levels.\n",
    "        if(Y.count(1)>Y.count(0)):\n",
    "            max_count = 1\n",
    "        else:\n",
    "            max_count = 0\n",
    "\n",
    "\n",
    "        best_word = self.most_IG(X, Y, vocabulary) #Finding the word with the highest Information Gain \n",
    "        tree = Tree() #Initialization of the tree\n",
    "\n",
    "        #The new vocabulary, excluding the word that will be used for the split into leaves, so that it is not reused afterward.\n",
    "        new_vocabulary = vocabulary.copy() \n",
    "        new_vocabulary.remove(best_word)\n",
    "        self.depth += 1 #updating the depth\n",
    "\n",
    "        for zero_or_one in range(2):\n",
    "            #The new lists of reviews, because of the for two lists are created for each category (Y and X), one with the best_word and one without\n",
    "            x_new = list()\n",
    "            y_new = list()\n",
    "            for i in range(len(X)):\n",
    "                if X[i][best_word] == zero_or_one:\n",
    "                    x_new.append(X[i])\n",
    "                    y_new.append(Y[i])\n",
    "            subtree = self.fit(x_new, y_new, new_vocabulary, max_count)\n",
    "            subtree.tag = zero_or_one \n",
    "            subtree.word = best_word\n",
    "            tree.new_child(subtree)            \n",
    "                \n",
    "        return tree\n",
    "\n",
    "    def singular_prediction(self, X, tree):\n",
    "        sub_tree = tree #Initialization of subtree\n",
    "        flag = False\n",
    "        while not flag:\n",
    "            word_feature = sub_tree.children[0].word #We take the word with which the division happens\n",
    "            for sub in sub_tree.children:\n",
    "                if (sub.tag == X[word_feature]): \n",
    "                    #If the word-criterion, with which the division happened on this level, exists\n",
    "                    # we move to the subtree in which the tag is 1 (which means it has reviews that include that word), \n",
    "                    # or else we move to the subtree in which the tag is 0\n",
    "                    sub_tree = sub\n",
    "            if(sub_tree.classification == 1 or sub_tree.classification == 0):\n",
    "                # We stop when we reach a leaf. Leaves have the value 0 or 1 and that value ends up to become the sample's classification\n",
    "                # All others intermediate nodes have None as the classification value.\n",
    "                flag = True\n",
    "        return sub_tree.classification\n",
    "\n",
    "    def predict(self, tree, X):\n",
    "        y_pred = list()\n",
    "        for i in range(len(X)):\n",
    "            y_pred.append(self.singular_prediction(X[i], tree)) #prediction for each review separately\n",
    "        \n",
    "        return y_pred"
   ]
  },
  {
   "cell_type": "code",
   "execution_count": 14,
   "metadata": {},
   "outputs": [
    {
     "name": "stdout",
     "output_type": "stream",
     "text": [
      "81.708\n",
      "74.79599999999999\n"
     ]
    }
   ],
   "source": [
    "model = ID3(400)\n",
    "y_train_list = y_train.tolist()\n",
    "y_test_list = y_test.tolist()\n",
    "trained_tree = model.fit(x_train_binary, y_train_list, vocabulary_indexes, 0)\n",
    "\n",
    "y_pred = model.predict(trained_tree, x_train_binary)\n",
    "sum=0\n",
    "for i in range(len(y_test)):\n",
    "    if(y_train_list[i]==y_pred[i]):\n",
    "        sum+=1\n",
    "correct_percentage_test = (sum/len(y_test_list))*100\n",
    "print(correct_percentage_test)\n",
    "\n",
    "#trained_tree = model.fit(x_test_binary, y_test_list, vocabulary_indexes, 0)\n",
    "y_pred = model.predict(trained_tree, x_test_binary)\n",
    "y_test_list = y_test.tolist()\n",
    "sum=0\n",
    "for i in range(len(y_test)):\n",
    "    if(y_test_list[i]==y_pred[i]):\n",
    "        sum+=1\n",
    "correct_percentage_test = (sum/len(y_test_list))*100\n",
    "print(correct_percentage_test)"
   ]
  },
  {
   "cell_type": "markdown",
   "metadata": {
    "id": "LhNCa4YSzS5J"
   },
   "source": [
    "  ## <span style=\"color:green \"> Random Forest classifier </span>\n",
    "  \n",
    "  ### Coding Structure for Random Forest:\n",
    "- **_init_(self, num_of_words, trees = 10)**: Initialize the Random Forest classifier.\n",
    "  - <span style=\"color:blue\"> self.num_of_word  </span>: The number of words to consider from the vocabulary for creating the trees.\n",
    "  - <span style=\"color:blue\">self.trees  </span> : The number of decision trees to create in the forest.\n",
    "  - <span style=\"color:blue\">self.forest </span>: A list that will hold all the decision trees.\n",
    "- **new_sample(self, X, Y)**: Generate a new sample from the dataset. Randomly selects instances from the dataset to create a subsample.\n",
    "- **new_vocabulary(self, X)**: Create a new subset of vocabulary words. Randomly selects a set of words from the full vocabulary. Each decision tree in the forest will use this subset of words to make decisions which helps to ensure that the trees in the forest are diverse.\n",
    "- **fit(self, X, Y, max_depth = 10)**: Build the forest by creating individual decision trees.\n",
    "  - For each tree, it creates a new sample and a new subset of words.\n",
    "  - It then initializes an ID3 decision tree and fits it to the data.\n",
    "  - The completed tree is added to the forest.\n",
    "- **predict(self, X)**: Predict the class for each instance in the dataset.\n",
    "  - For each instance, each tree in the forest makes a prediction.\n",
    "  - The predictions are tallied, and the class with the majority vote is chosen as the final prediction for that instance.\n",
    "  - Returns a list of predictions, one for each instance."
   ]
  },
  {
   "cell_type": "code",
   "execution_count": 15,
   "metadata": {
    "colab": {
     "base_uri": "https://localhost:8080/"
    },
    "id": "XyQtFiv8zUV5",
    "outputId": "d46121a7-eecc-492e-ba8a-7cad33aa614f"
   },
   "outputs": [],
   "source": [
    "import random\n",
    "\n",
    "class Random_Forest():\n",
    "    def __init__(self, num_of_words, trees = 10):\n",
    "        self.num_of_words = num_of_words #Αριθμός των λέξεων Number of words\n",
    "        self.trees = trees #Numbers of trees to be created\n",
    "        self.forest = list() #List of trees\n",
    "\n",
    "    def new_sample(self, X, Y):\n",
    "        # Initialization of the new x and y\n",
    "        x_new = list()\n",
    "        y_new = list()\n",
    "\n",
    "        y_indexes = list() #Indexes of reviews that haven't be selected yet\n",
    "        for i in range(len(Y)):\n",
    "            y_indexes.append(i)\n",
    "\n",
    "        for i in range(len(X)):\n",
    "            #Random selection of reviews for the subset that the method will return, using the indexes that have been created above\n",
    "            random_choice = random.choice(y_indexes) \n",
    "            x_new.append(X[random_choice])\n",
    "            y_new.append(Y[random_choice])\n",
    "\n",
    "        return x_new, y_new\n",
    "\n",
    "    def new_vocabulary(self, X):\n",
    "        # List with the indexes of the vocabulary for the random selection of new words for the new vocabulary that this method will return\n",
    "        words_indexes = list()\n",
    "        for x in range(len(X[0])):\n",
    "            words_indexes.append(x)\n",
    "\n",
    "        new_words = list()\n",
    "        for i in range(self.num_of_words):\n",
    "            random_word = random.choice(words_indexes) #Random selection of word\n",
    "            words_indexes.remove(random_word) #Subtrackting the word from the old vocabulary \n",
    "            new_words.append(random_word) #Insertimg the word in the new vocabulary\n",
    "\n",
    "        return new_words\n",
    "\n",
    "    def fit(self, X, Y, max_depth = 10):\n",
    "        for i in range(self.trees):\n",
    "            id3 = ID3(max_depth) #Creating the ID3 tree\n",
    "            random_x, random_y = self.new_sample(X, Y)\n",
    "            tree = id3.fit(random_x, random_y, self.new_vocabulary(random_x), 0)\n",
    "            self.forest.append(tree)\n",
    "\n",
    "    def predict(self, X):\n",
    "        y_pred = list()\n",
    "        for i in range(len(X)):\n",
    "            zeros =0\n",
    "            ones = 0\n",
    "            for j in range(self.trees):\n",
    "                id3 = ID3()\n",
    "                prediction = id3.singular_prediction(X[i], self.forest[j])\n",
    "                if (prediction == 1):\n",
    "                    ones += 1\n",
    "                elif(prediction==0):\n",
    "                    zeros +=1\n",
    "            if ones>zeros:\n",
    "                y_pred.append(1)\n",
    "            else:\n",
    "                y_pred.append(0)\n",
    "        return y_pred"
   ]
  },
  {
   "cell_type": "code",
   "execution_count": 16,
   "metadata": {},
   "outputs": [
    {
     "name": "stdout",
     "output_type": "stream",
     "text": [
      "72.14399999999999\n",
      "72.124\n"
     ]
    }
   ],
   "source": [
    "\n",
    "model = Random_Forest(400,8) #the combination that gives the best results\n",
    "trained_forest = model.fit(x_train_binary, y_train_list)\n",
    "y_pred = model.predict(x_train_binary)\n",
    "y_train_list = y_train.tolist()\n",
    "sum=0\n",
    "for i in range(len(y_train)):\n",
    "    if(y_train_list[i]==y_pred[i]):\n",
    "        sum+=1\n",
    "correct_percentage_test = (sum/len(y_train_list))*100\n",
    "print(correct_percentage_test)\n",
    "\n",
    "y_pred = model.predict(x_test_binary)\n",
    "y_test_list = y_test.tolist()\n",
    "sum=0\n",
    "for i in range(len(y_test)):\n",
    "    if(y_test_list[i]==y_pred[i]):\n",
    "        sum+=1\n",
    "correct_percentage_test = (sum/len(y_test_list))*100\n",
    "print(correct_percentage_test)"
   ]
  },
  {
   "cell_type": "code",
   "execution_count": 80,
   "metadata": {},
   "outputs": [
    {
     "name": "stdout",
     "output_type": "stream",
     "text": [
      "[[0 1 1 ... 0 0 0]\n",
      " [1 0 0 ... 0 0 0]\n",
      " [0 0 0 ... 0 0 0]\n",
      " ...\n",
      " [0 1 1 ... 0 0 0]\n",
      " [0 0 0 ... 0 0 0]\n",
      " [0 0 0 ... 0 0 0]] [1 0 0 ... 1 0 0]\n",
      "Split training examples :  1\n",
      "Split training examples :  2\n",
      "Split training examples :  3\n",
      "Split training examples :  4\n"
     ]
    },
    {
     "data": {
      "image/png": "[encoded data removed]",
      "text/plain": [
       "<Figure size 800x800 with 4 Axes>"
      ]
     },
     "metadata": {},
     "output_type": "display_data"
    },
    {
     "data": {
      "text/plain": [
       "{'Training Accuracy': [0.7182, 0.7062, 0.7021333333333334, 0.70085, 0.69992],\n",
       " 'Test Accuracy': [0.69584, 0.69584, 0.69584, 0.69584, 0.69584],\n",
       " 'Training Precision': [0.6601859678782755,\n",
       "  0.6485044235360202,\n",
       "  0.6433448695164157,\n",
       "  0.6414988814317674,\n",
       "  0.6400470746469401],\n",
       " 'Test Precision': [0.635788773019747,\n",
       "  0.635788773019747,\n",
       "  0.635788773019747,\n",
       "  0.635788773019747,\n",
       "  0.635788773019747],\n",
       " 'Training Recall': [0.920267085624509,\n",
       "  0.9139125272115575,\n",
       "  0.9130492499668127,\n",
       "  0.9147642308842588,\n",
       "  0.91368],\n",
       " 'Test Recall': [0.91696, 0.91696, 0.91696, 0.91696, 0.91696],\n",
       " 'Training F1 Score': [0.7688269073010665,\n",
       "  0.7586660095285034,\n",
       "  0.7548287971905181,\n",
       "  0.7541401273885351,\n",
       "  0.7527682573161086],\n",
       " 'Test F1 Score': [0.7509171907756812,\n",
       "  0.7509171907756812,\n",
       "  0.7509171907756812,\n",
       "  0.7509171907756812,\n",
       "  0.7509171907756812]}"
      ]
     },
     "execution_count": 80,
     "metadata": {},
     "output_type": "execute_result"
    }
   ],
   "source": [
    "tool = Random_Forest(400,8)\n",
    "custom_curve(tool, x_train_binary, y_train, x_test_binary, y_test, 5, \"Random Forest\")"
   ]
  },
  {
   "cell_type": "code",
   "execution_count": 85,
   "metadata": {},
   "outputs": [
    {
     "name": "stdout",
     "output_type": "stream",
     "text": [
      "              precision    recall  f1-score   support\n",
      "\n",
      "           0       0.82      0.53      0.65     12500\n",
      "           1       0.65      0.88      0.75     12500\n",
      "\n",
      "    accuracy                           0.71     25000\n",
      "   macro avg       0.74      0.71      0.70     25000\n",
      "weighted avg       0.74      0.71      0.70     25000\n",
      "\n",
      "              precision    recall  f1-score   support\n",
      "\n",
      "           0       0.82      0.53      0.64     12500\n",
      "           1       0.65      0.89      0.75     12500\n",
      "\n",
      "    accuracy                           0.71     25000\n",
      "   macro avg       0.74      0.71      0.70     25000\n",
      "weighted avg       0.74      0.71      0.70     25000\n",
      "\n"
     ]
    }
   ],
   "source": [
    "tool = Random_Forest(400,8)\n",
    "trained_forest = tool.fit(x_train_binary, y_train_list)\n",
    "# Using Naive Bayes Classifier\n",
    "y = tool.predict(x_train_binary)\n",
    "print(classification_report(y_train, y))\n",
    "\n",
    "y = tool.predict(x_test_binary)\n",
    "print(classification_report(y_test, y))"
   ]
  }
 ],
 "metadata": {
  "colab": {
   "collapsed_sections": [],
   "name": "sklearn-IMDB.ipynb",
   "provenance": []
  },
  "kernelspec": {
   "display_name": "Python 3 (ipykernel)",
   "language": "python",
   "name": "python3"
  },
  "language_info": {
   "codemirror_mode": {
    "name": "ipython",
    "version": 3
   },
   "file_extension": ".py",
   "mimetype": "text/x-python",
   "name": "python",
   "nbconvert_exporter": "python",
   "pygments_lexer": "ipython3",
   "version": "3.11.5"
  },
  "vscode": {
   "interpreter": {
    "hash": "7b1f2b33e866b0bf2409397e5f58ba9cdf170d3b7f64c8f359c79998e2f88ad4"
   }
  }
 },
 "nbformat": 4,
 "nbformat_minor": 1
}
